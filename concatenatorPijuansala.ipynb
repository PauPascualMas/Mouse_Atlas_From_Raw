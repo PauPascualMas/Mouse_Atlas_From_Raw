{
 "cells": [
  {
   "cell_type": "code",
   "execution_count": 9,
   "metadata": {},
   "outputs": [],
   "source": [
    "# Reads R1.fastq and R2.fastq files;\n",
    "# selects reads with proper cell barcode;\n",
    "# produces a new _cbc.fastq.gz file.\n",
    "import sys, os\n",
    "import itertools as it\n",
    "import argparse as argp\n",
    "import numpy as np\n",
    "import gzip\n",
    "import pandas as pd\n",
    "from pandas.io.parsers import read_csv\n",
    "from collections import Counter\n",
    "import glob"
   ]
  },
  {
   "cell_type": "markdown",
   "metadata": {},
   "source": [
    "## function to identify cells from barcodes, allowing some edit distances ####"
   ]
  },
  {
   "cell_type": "code",
   "execution_count": 10,
   "metadata": {},
   "outputs": [],
   "source": [
    "def find_compatible_barcodes(barcode, HDmax = 0):\n",
    "    \"\"\"Given a barcode sequence and a maximum Hammin distance, it returns a list of compatible barcode sequences\"\"\"\n",
    "    nt = ['N'] if HDmax == 0 else ['N','C','T','G','A']\n",
    "    HDmax = 1 if HDmax == 0 else HDmax\n",
    "    compatible_barcodes = set([barcode])\n",
    "    for hd in range(1, HDmax+1):\n",
    "        comb = [''.join(l) for l in it.product(nt, repeat = hd)]\n",
    "        for c in comb:\n",
    "            for p in it.permutations(range(len(barcode)), hd):\n",
    "                s0 = barcode\n",
    "                for x, l in zip(p, c):\n",
    "                    s0 = s0[:x] + l + s0[x+1:]\n",
    "                compatible_barcodes.add(s0)\n",
    "    return list(compatible_barcodes)"
   ]
  },
  {
   "cell_type": "markdown",
   "metadata": {},
   "source": [
    "## check input variables ####"
   ]
  },
  {
   "cell_type": "code",
   "execution_count": 19,
   "metadata": {},
   "outputs": [
    {
     "name": "stderr",
     "output_type": "stream",
     "text": [
      "usage: ipykernel_launcher.py [-h] [--fq1 FQ1] [--fq2 FQ2] [--fq3 FQ3]\n",
      "                             [--cbcfile CBCFILE] [--cbchd CBCHD]\n",
      "                             [--outdir OUTDIR]\n",
      "ipykernel_launcher.py: error: unrecognized arguments: -f /home/paupascual/.local/share/jupyter/runtime/kernel-ea97847d-8d4a-4c26-bb13-ae8cafe3c365.json\n"
     ]
    },
    {
     "ename": "SystemExit",
     "evalue": "2",
     "output_type": "error",
     "traceback": [
      "An exception has occurred, use %tb to see the full traceback.\n",
      "\u001b[0;31mSystemExit\u001b[0m\u001b[0;31m:\u001b[0m 2\n"
     ]
    }
   ],
   "source": [
    "## no idea\n",
    "parser = argp.ArgumentParser(description = 'Concatenates bcread to bioread qname.')\n",
    "parser.add_argument('--fq1', help = 'Fastq file for read 1')\n",
    "parser.add_argument('--fq2', help = 'Fastq file for read 2')\n",
    "parser.add_argument('--fq3', help = 'Fastq file for read 3')\n",
    "parser.add_argument('--cbcfile', '-cbcf', help = 'cell specific barcode file. Please, provide full name')\n",
    "parser.add_argument('--cbchd', help = 'collapse cell barcodes with the given hamming distance', type = int, default = 0)\n",
    "parser.add_argument('--outdir', help = 'output directory for cbc.fastq.gz and log files', type = str, default = './')\n",
    "args = parser.parse_args()"
   ]
  },
  {
   "cell_type": "code",
   "execution_count": 15,
   "metadata": {},
   "outputs": [
    {
     "ename": "NameError",
     "evalue": "name 'args' is not defined",
     "output_type": "error",
     "traceback": [
      "\u001b[0;31m---------------------------------------------------------------------------\u001b[0m",
      "\u001b[0;31mNameError\u001b[0m                                 Traceback (most recent call last)",
      "Input \u001b[0;32mIn [15]\u001b[0m, in \u001b[0;36m<cell line: 6>\u001b[0;34m()\u001b[0m\n\u001b[1;32m      4\u001b[0m lcbc \u001b[38;5;241m=\u001b[39m \u001b[38;5;241m14\u001b[39m\n\u001b[1;32m      5\u001b[0m lumi \u001b[38;5;241m=\u001b[39m \u001b[38;5;241m10\u001b[39m\n\u001b[0;32m----> 6\u001b[0m cbcfile \u001b[38;5;241m=\u001b[39m \u001b[43margs\u001b[49m\u001b[38;5;241m.\u001b[39mcbcfile\n\u001b[1;32m      7\u001b[0m hd \u001b[38;5;241m=\u001b[39m args\u001b[38;5;241m.\u001b[39mcbchd\n\u001b[1;32m      8\u001b[0m outdir \u001b[38;5;241m=\u001b[39m args\u001b[38;5;241m.\u001b[39moutdir\n",
      "\u001b[0;31mNameError\u001b[0m: name 'args' is not defined"
     ]
    }
   ],
   "source": [
    "fq1 = '22089_1_AAACGGCG_S1_L001_R1_001.fastq.gz'\n",
    "fq2 = '22089_1_AAACGGCG_S1_L001_R2_001.fastq.gz'\n",
    "fq3 = '22089_1_AAACGGCG_S1_L001_R3_001.fastq.gz'\n",
    "lcbc = 14\n",
    "lumi = 10\n",
    "cbcfile = args.cbcfile\n",
    "hd = args.cbchd\n",
    "outdir = args.outdir"
   ]
  },
  {
   "cell_type": "markdown",
   "metadata": {},
   "source": [
    "## Find input fastq files ####"
   ]
  },
  {
   "cell_type": "code",
   "execution_count": 16,
   "metadata": {},
   "outputs": [],
   "source": [
    "if not os.path.isfile(fq1) or not os.path.isfile(fq2) or not os.path.isfile(fq3):\n",
    "    sys.exit('fastq files not found')"
   ]
  },
  {
   "cell_type": "code",
   "execution_count": 17,
   "metadata": {},
   "outputs": [],
   "source": [
    "fqr = fq1[: min([i for i, (c1, c2) in enumerate(zip(fq1, fq2)) if c1 != c2])-2]\n",
    "if '/' in fqr:\n",
    "    fqr = fqr[:fqr.rindex('/')]"
   ]
  },
  {
   "cell_type": "markdown",
   "metadata": {},
   "source": [
    "## Read barcodes and expand set according to input hamming distance ####"
   ]
  },
  {
   "cell_type": "code",
   "execution_count": 18,
   "metadata": {},
   "outputs": [
    {
     "ename": "NameError",
     "evalue": "name 'cbcfile' is not defined",
     "output_type": "error",
     "traceback": [
      "\u001b[0;31m---------------------------------------------------------------------------\u001b[0m",
      "\u001b[0;31mNameError\u001b[0m                                 Traceback (most recent call last)",
      "Input \u001b[0;32mIn [18]\u001b[0m, in \u001b[0;36m<cell line: 1>\u001b[0;34m()\u001b[0m\n\u001b[0;32m----> 1\u001b[0m \u001b[38;5;28;01mif\u001b[39;00m \u001b[38;5;129;01mnot\u001b[39;00m os\u001b[38;5;241m.\u001b[39mpath\u001b[38;5;241m.\u001b[39misfile(\u001b[43mcbcfile\u001b[49m):\n\u001b[1;32m      2\u001b[0m     sys\u001b[38;5;241m.\u001b[39mexit(\u001b[38;5;124m\"\u001b[39m\u001b[38;5;124mBarcode file not found\u001b[39m\u001b[38;5;124m\"\u001b[39m)\n",
      "\u001b[0;31mNameError\u001b[0m: name 'cbcfile' is not defined"
     ]
    }
   ],
   "source": [
    "if not os.path.isfile(cbcfile):\n",
    "    sys.exit(\"Barcode file not found\")"
   ]
  },
  {
   "cell_type": "code",
   "execution_count": null,
   "metadata": {},
   "outputs": [],
   "source": [
    "bc_df = read_csv(cbcfile, sep = '\\t', names = ['bc','cellID'], index_col = 0)\n",
    "bc_df['compatible_bcs'] = bc_df.apply(lambda x: find_compatible_barcodes(x.name, hd), axis = 1)\n",
    "cnt_allbcs = Counter([x for idx in bc_df.index for x in bc_df.loc[idx, 'compatible_bcs']])\n",
    "allbc_df = pd.DataFrame({x: {'cellID': bc_df.loc[idx,'cellID'], 'original': idx} for idx in bc_df.index for x in bc_df.loc[idx, 'compatible_bcs'] if cnt_allbcs[x]==1}).T"
   ]
  },
  {
   "cell_type": "markdown",
   "metadata": {},
   "source": [
    "# Create output directory if it does not exist ####"
   ]
  },
  {
   "cell_type": "code",
   "execution_count": null,
   "metadata": {},
   "outputs": [],
   "source": [
    "if not os.path.isdir(outdir):\n",
    "    os.system('mkdir '+outdir)"
   ]
  },
  {
   "cell_type": "markdown",
   "metadata": {},
   "source": [
    "## Read fastq files and assign cell barcode and UMI ####"
   ]
  },
  {
   "cell_type": "code",
   "execution_count": null,
   "metadata": {},
   "outputs": [],
   "source": [
    "fout = open(outdir + '/' + fqr + '_cbc.fastq', 'w')\n",
    "ns = 0\n",
    "with gzip.open(fq1) as f1, gzip.open(fq2) as f2, gzip.open(fq3) as f3: \n",
    "    for idx, (l1, l2, l3) in enumerate(zip(f1, f2, f3)):\n",
    "        l1, l2, l3 = [str(l.rstrip().rsplit()[0], 'utf-8') for l in [l1,l2,l3]]\n",
    "        l = np.mod(idx,4)\n",
    "        if l == 0:\n",
    "            n1, n2, n3 = l1, l2, l3\n",
    "            if not n1 == n2 == n3:\n",
    "                print (n1, n2, n3)\n",
    "                sys.exit('fastq files not syncrhonized (@name)')\n",
    "        if l == 1:\n",
    "            s1, s2, s3 = l1, l2, l3\n",
    "        if l == 2:\n",
    "            p1, p2, p3 = l1[0], l2[0], l3[0]\n",
    "            if not p1 == p2 == p3: # == '+':\n",
    "                print(l1, l2, l3, p1, p2)\n",
    "                sys.exit('fastq files not synchronized (+)')\n",
    "        if l == 3:\n",
    "            q1, q2, q3 = l1, l2, l3\n",
    "            if len(q1) != len(s1) or len(q2) != len(s2) or len(q3) != len(s3):\n",
    "                sys.exit('phred and read length not mathch!')\n",
    "            cellbcseq = s2\n",
    "            cellbcphred = q2\n",
    "            s = s1\n",
    "            q = q1\n",
    "            \n",
    "            umiseq = s3\n",
    "            umiphred = q3\n",
    "            try:\n",
    "                cellID, originalBC = allbc_df.loc[cellbcseq]\n",
    "                ns += 1\n",
    "                cellbcphred = ''.join([chr(ord(c)+32) for c in cellbcphred])\n",
    "                umiphred = ''.join([chr(ord(c)+32) for c in umiphred])\n",
    "                name = ';'.join([n1] + [':'.join(x) for x in zip(['SS','CB','QT','RX','RQ','SM'], [cellbcseq, originalBC, cellbcphred, umiseq, umiphred, str(cellID).zfill(3)])])\n",
    "                fout.write( '\\n'.join([name, s, '+', q, '']))\n",
    "            except: \n",
    "                continue"
   ]
  },
  {
   "cell_type": "code",
   "execution_count": null,
   "metadata": {},
   "outputs": [],
   "source": [
    "nt = (idx+1)/4\n",
    "fout.close()"
   ]
  },
  {
   "cell_type": "markdown",
   "metadata": {},
   "source": [
    "## LOG ####"
   ]
  },
  {
   "cell_type": "code",
   "execution_count": null,
   "metadata": {},
   "outputs": [],
   "source": [
    "fout = open(outdir + '/' + fqr + '.log', 'w')\n",
    "fout.write('=> to generate cbc file <=\\n')\n",
    "fout.write(', '.join(['fastq file:', str(fqr),'\\n']))\n",
    "fout.write(', '.join(['total sequenced reads:', str(nt), '\\n']))\n",
    "fout.write(', '.join(['reads with proper barcodes:', str(ns), str(1.0*ns/nt), '\\n']))\n",
    "fout.close()"
   ]
  },
  {
   "cell_type": "markdown",
   "metadata": {},
   "source": [
    "## zip fastq file ####"
   ]
  },
  {
   "cell_type": "code",
   "execution_count": null,
   "metadata": {},
   "outputs": [],
   "source": [
    "os.system('gzip '+ outdir + '/' + fqr + '_cbc.fastq')"
   ]
  }
 ],
 "metadata": {
  "kernelspec": {
   "display_name": "Python 3 (ipykernel)",
   "language": "python",
   "name": "python3"
  },
  "language_info": {
   "codemirror_mode": {
    "name": "ipython",
    "version": 3
   },
   "file_extension": ".py",
   "mimetype": "text/x-python",
   "name": "python",
   "nbconvert_exporter": "python",
   "pygments_lexer": "ipython3",
   "version": "3.9.12"
  }
 },
 "nbformat": 4,
 "nbformat_minor": 2
}
